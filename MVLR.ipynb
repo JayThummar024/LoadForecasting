{
 "cells": [
  {
   "cell_type": "code",
   "execution_count": 158,
   "id": "1e5c8206-23d0-4c9b-b135-09de34c843a2",
   "metadata": {},
   "outputs": [],
   "source": [
    "from keras.callbacks import ModelCheckpoint, EarlyStopping\n",
    "from keras.layers import Dense, Activation, CuDNNLSTM, LSTM\n",
    "from keras.models import Sequential\n",
    "from sklearn.preprocessing import MinMaxScaler\n",
    "import glob\n",
    "import pandas as pd\n",
    "import numpy as np"
   ]
  },
  {
   "cell_type": "code",
   "execution_count": 159,
   "id": "feb0eb4c-af0b-4c46-a56c-93470db2b939",
   "metadata": {},
   "outputs": [],
   "source": [
    "df = pd.read_csv(r'C:\\Users\\Jay Thummar\\Desktop\\train_dataframes.csv')\n",
    "df = df[:2400]"
   ]
  },
  {
   "cell_type": "code",
   "execution_count": 160,
   "id": "9e574979-566c-48dd-bc12-0bf9ededc060",
   "metadata": {},
   "outputs": [
    {
     "data": {
      "text/html": [
       "<div>\n",
       "<style scoped>\n",
       "    .dataframe tbody tr th:only-of-type {\n",
       "        vertical-align: middle;\n",
       "    }\n",
       "\n",
       "    .dataframe tbody tr th {\n",
       "        vertical-align: top;\n",
       "    }\n",
       "\n",
       "    .dataframe thead th {\n",
       "        text-align: right;\n",
       "    }\n",
       "</style>\n",
       "<table border=\"1\" class=\"dataframe\">\n",
       "  <thead>\n",
       "    <tr style=\"text-align: right;\">\n",
       "      <th></th>\n",
       "      <th>hourOfDay</th>\n",
       "      <th>T2M_toc</th>\n",
       "      <th>DEMAND</th>\n",
       "    </tr>\n",
       "  </thead>\n",
       "  <tbody>\n",
       "    <tr>\n",
       "      <th>0</th>\n",
       "      <td>1</td>\n",
       "      <td>25.308496</td>\n",
       "      <td>954.2018</td>\n",
       "    </tr>\n",
       "    <tr>\n",
       "      <th>1</th>\n",
       "      <td>2</td>\n",
       "      <td>25.141443</td>\n",
       "      <td>913.8660</td>\n",
       "    </tr>\n",
       "    <tr>\n",
       "      <th>2</th>\n",
       "      <td>3</td>\n",
       "      <td>25.006738</td>\n",
       "      <td>903.3637</td>\n",
       "    </tr>\n",
       "    <tr>\n",
       "      <th>3</th>\n",
       "      <td>4</td>\n",
       "      <td>24.899713</td>\n",
       "      <td>889.0806</td>\n",
       "    </tr>\n",
       "    <tr>\n",
       "      <th>4</th>\n",
       "      <td>5</td>\n",
       "      <td>24.821558</td>\n",
       "      <td>910.1472</td>\n",
       "    </tr>\n",
       "    <tr>\n",
       "      <th>5</th>\n",
       "      <td>6</td>\n",
       "      <td>24.830194</td>\n",
       "      <td>922.1737</td>\n",
       "    </tr>\n",
       "    <tr>\n",
       "      <th>6</th>\n",
       "      <td>7</td>\n",
       "      <td>25.799951</td>\n",
       "      <td>939.9442</td>\n",
       "    </tr>\n",
       "    <tr>\n",
       "      <th>7</th>\n",
       "      <td>8</td>\n",
       "      <td>26.980310</td>\n",
       "      <td>1077.8575</td>\n",
       "    </tr>\n",
       "    <tr>\n",
       "      <th>8</th>\n",
       "      <td>9</td>\n",
       "      <td>28.031824</td>\n",
       "      <td>1179.6601</td>\n",
       "    </tr>\n",
       "    <tr>\n",
       "      <th>9</th>\n",
       "      <td>10</td>\n",
       "      <td>28.906061</td>\n",
       "      <td>1255.1569</td>\n",
       "    </tr>\n",
       "    <tr>\n",
       "      <th>10</th>\n",
       "      <td>11</td>\n",
       "      <td>29.555170</td>\n",
       "      <td>1253.4414</td>\n",
       "    </tr>\n",
       "    <tr>\n",
       "      <th>11</th>\n",
       "      <td>12</td>\n",
       "      <td>30.036523</td>\n",
       "      <td>1223.6116</td>\n",
       "    </tr>\n",
       "    <tr>\n",
       "      <th>12</th>\n",
       "      <td>13</td>\n",
       "      <td>30.265527</td>\n",
       "      <td>1160.2838</td>\n",
       "    </tr>\n",
       "    <tr>\n",
       "      <th>13</th>\n",
       "      <td>14</td>\n",
       "      <td>30.211145</td>\n",
       "      <td>1124.8878</td>\n",
       "    </tr>\n",
       "    <tr>\n",
       "      <th>14</th>\n",
       "      <td>15</td>\n",
       "      <td>29.732751</td>\n",
       "      <td>1112.4189</td>\n",
       "    </tr>\n",
       "    <tr>\n",
       "      <th>15</th>\n",
       "      <td>16</td>\n",
       "      <td>28.988275</td>\n",
       "      <td>1081.7406</td>\n",
       "    </tr>\n",
       "    <tr>\n",
       "      <th>16</th>\n",
       "      <td>17</td>\n",
       "      <td>27.993494</td>\n",
       "      <td>1064.8583</td>\n",
       "    </tr>\n",
       "    <tr>\n",
       "      <th>17</th>\n",
       "      <td>18</td>\n",
       "      <td>27.021875</td>\n",
       "      <td>1095.5704</td>\n",
       "    </tr>\n",
       "    <tr>\n",
       "      <th>18</th>\n",
       "      <td>19</td>\n",
       "      <td>26.520013</td>\n",
       "      <td>1116.6654</td>\n",
       "    </tr>\n",
       "    <tr>\n",
       "      <th>19</th>\n",
       "      <td>20</td>\n",
       "      <td>26.249841</td>\n",
       "      <td>1094.6770</td>\n",
       "    </tr>\n",
       "  </tbody>\n",
       "</table>\n",
       "</div>"
      ],
      "text/plain": [
       "    hourOfDay    T2M_toc     DEMAND\n",
       "0           1  25.308496   954.2018\n",
       "1           2  25.141443   913.8660\n",
       "2           3  25.006738   903.3637\n",
       "3           4  24.899713   889.0806\n",
       "4           5  24.821558   910.1472\n",
       "5           6  24.830194   922.1737\n",
       "6           7  25.799951   939.9442\n",
       "7           8  26.980310  1077.8575\n",
       "8           9  28.031824  1179.6601\n",
       "9          10  28.906061  1255.1569\n",
       "10         11  29.555170  1253.4414\n",
       "11         12  30.036523  1223.6116\n",
       "12         13  30.265527  1160.2838\n",
       "13         14  30.211145  1124.8878\n",
       "14         15  29.732751  1112.4189\n",
       "15         16  28.988275  1081.7406\n",
       "16         17  27.993494  1064.8583\n",
       "17         18  27.021875  1095.5704\n",
       "18         19  26.520013  1116.6654\n",
       "19         20  26.249841  1094.6770"
      ]
     },
     "execution_count": 160,
     "metadata": {},
     "output_type": "execute_result"
    }
   ],
   "source": [
    "df.drop(['week_X-2', 'week_X-3', 'week_X-4', 'MA_X-4', 'dayOfWeek',\n",
    "        'weekend', 'holiday', 'Holiday_ID','datetime'], axis=1, inplace=True)\n",
    "df.head(20)"
   ]
  },
  {
   "cell_type": "code",
   "execution_count": 161,
   "id": "e821371c-4fe4-4494-9cc7-e83a8881f57a",
   "metadata": {},
   "outputs": [],
   "source": [
    "X = []\n",
    "Y = []"
   ]
  },
  {
   "cell_type": "code",
   "execution_count": 162,
   "id": "73420b95-6f00-4ec0-b664-c939c4162ede",
   "metadata": {},
   "outputs": [],
   "source": [
    "for i in range(0, df.shape[0]-24*7):\n",
    "    X.append(df.iloc[i:i+(24*7)]['DEMAND'])\n",
    "    Y.append(df.iloc[i+(24*7)]['DEMAND'])"
   ]
  },
  {
   "cell_type": "code",
   "execution_count": 163,
   "id": "32276f5f-06de-4c40-9919-ae73b04e1b6f",
   "metadata": {},
   "outputs": [],
   "source": [
    "x, y = np.array(X), np.array(Y)\n",
    "y = np.reshape(y, (len(y), 1))\n",
    "\n",
    "# x = np.delete(x, list(range(1, x.shape[1], 2)), axis=1)\n",
    "x = np.delete(x, list(range(1, x.shape[0], 2)), axis=0)\n",
    "\n",
    "y = np.delete(y, list(range(1, y.shape[0], 2)), axis=0)"
   ]
  },
  {
   "cell_type": "code",
   "execution_count": 164,
   "id": "39c9fe76-a698-472b-9c54-eecccb48d6c5",
   "metadata": {},
   "outputs": [
    {
     "data": {
      "text/plain": [
       "(1116, 168)"
      ]
     },
     "execution_count": 164,
     "metadata": {},
     "output_type": "execute_result"
    }
   ],
   "source": [
    "x.shape"
   ]
  },
  {
   "cell_type": "code",
   "execution_count": 165,
   "id": "8be19e74-2425-4227-8f02-82d82cf3b611",
   "metadata": {},
   "outputs": [
    {
     "data": {
      "text/plain": [
       "(1116, 1)"
      ]
     },
     "execution_count": 165,
     "metadata": {},
     "output_type": "execute_result"
    }
   ],
   "source": [
    "y.shape"
   ]
  },
  {
   "cell_type": "code",
   "execution_count": 166,
   "id": "3f40cdcc-eee7-4541-a619-e4cb55850ac2",
   "metadata": {},
   "outputs": [
    {
     "data": {
      "text/plain": [
       "array([[ 954.2018,  913.866 ,  903.3637, ..., 1069.1463, 1024.2274,\n",
       "         963.816 ],\n",
       "       [ 903.3637,  889.0806,  910.1472, ...,  963.816 ,  918.182 ,\n",
       "         892.3819],\n",
       "       [ 910.1472,  922.1737,  939.9442, ...,  892.3819,  877.2844,\n",
       "         862.8613],\n",
       "       ...,\n",
       "       [1103.883 , 1089.056 , 1068.4377, ..., 1082.095 , 1054.5086,\n",
       "        1093.4606],\n",
       "       [1068.4377, 1015.142 ,  962.3642, ..., 1093.4606, 1165.7298,\n",
       "        1179.6642],\n",
       "       [ 962.3642,  916.7613,  889.4607, ..., 1179.6642, 1169.6609,\n",
       "        1130.1839]])"
      ]
     },
     "execution_count": 166,
     "metadata": {},
     "output_type": "execute_result"
    }
   ],
   "source": [
    "x"
   ]
  },
  {
   "cell_type": "code",
   "execution_count": 167,
   "id": "9a018f0e-cb1f-406d-8762-341d75de3a2c",
   "metadata": {},
   "outputs": [
    {
     "data": {
      "text/plain": [
       "array([[ 918.182 ],\n",
       "       [ 877.2844],\n",
       "       [ 847.2567],\n",
       "       ...,\n",
       "       [1165.7298],\n",
       "       [1169.6609],\n",
       "       [1056.758 ]])"
      ]
     },
     "execution_count": 167,
     "metadata": {},
     "output_type": "execute_result"
    }
   ],
   "source": [
    "y"
   ]
  },
  {
   "cell_type": "code",
   "execution_count": 168,
   "id": "89e5d507-d5ff-4891-8057-561c73b68c50",
   "metadata": {},
   "outputs": [],
   "source": [
    "from sklearn.model_selection import train_test_split"
   ]
  },
  {
   "cell_type": "code",
   "execution_count": 169,
   "id": "baf8ebd1-7e04-44e7-b1c0-db3057e9d5c4",
   "metadata": {},
   "outputs": [],
   "source": [
    "x_train,x_test,y_train,y_test = train_test_split(X,Y,test_size=0.2,random_state=0)"
   ]
  },
  {
   "cell_type": "code",
   "execution_count": 170,
   "id": "6aa984b8-c2a6-4b6e-85ee-64a95e6de0cd",
   "metadata": {},
   "outputs": [],
   "source": [
    "from sklearn.linear_model import LinearRegression"
   ]
  },
  {
   "cell_type": "code",
   "execution_count": 171,
   "id": "2305adec-af10-49fd-8447-ab1bf8816545",
   "metadata": {},
   "outputs": [
    {
     "data": {
      "text/plain": [
       "LinearRegression()"
      ]
     },
     "execution_count": 171,
     "metadata": {},
     "output_type": "execute_result"
    }
   ],
   "source": [
    "model = LinearRegression()\n",
    "model.fit(x_train,y_train)"
   ]
  },
  {
   "cell_type": "code",
   "execution_count": 172,
   "id": "bb76c668-91ad-498b-8a5a-b3f7082d200e",
   "metadata": {},
   "outputs": [
    {
     "data": {
      "text/plain": [
       "array([1264.22336236,  947.89729298,  990.82312815,  986.324669  ,\n",
       "       1071.83700455,  932.49680671,  894.93589425,  809.80315884,\n",
       "       1097.41940307, 1087.66622931, 1054.74180823, 1124.38518451,\n",
       "        786.25578805, 1159.57795109, 1164.08966381, 1233.90871431,\n",
       "        949.30351216,  934.38863441, 1391.13810814, 1419.93001726,\n",
       "        847.57514135,  900.25190187, 1294.83889617,  914.98697056,\n",
       "       1408.42981051, 1042.80920273,  945.38300744,  932.84930933,\n",
       "       1309.77263845, 1047.96976518, 1110.96137756,  901.07499029,\n",
       "        881.74738126,  927.07807994, 1494.05347047,  871.56665946,\n",
       "        904.84738595,  944.67774342, 1025.69963995, 1049.28162897,\n",
       "       1085.20484734,  907.41483131, 1074.50076793,  999.86177556,\n",
       "       1253.9669063 ,  883.65887494,  909.47916514, 1436.49945184,\n",
       "       1494.14732949, 1396.82897094,  971.84301169,  956.68181785,\n",
       "       1096.04008748,  983.73135946, 1384.42481799, 1422.98916367,\n",
       "        826.23762251,  992.27863672, 1412.24835623, 1001.81262416,\n",
       "       1013.6074134 ,  888.28913605, 1386.89017818, 1363.07599115,\n",
       "        880.03034405, 1032.20455561, 1197.00968933,  904.16751067,\n",
       "        927.06508891,  926.9314425 , 1205.5644747 , 1110.53066766,\n",
       "        902.81321811, 1277.21156223, 1116.22143621, 1022.60535986,\n",
       "       1213.69521742,  884.93096741,  920.89690435, 1466.7124872 ,\n",
       "       1151.97089549, 1316.72611802, 1445.19187711, 1199.69160481,\n",
       "        901.79972515,  844.7818319 ,  912.32355765, 1197.58483233,\n",
       "       1096.05389407,  901.89718796, 1250.77917426,  874.50624061,\n",
       "        849.88340034,  912.81301443, 1012.0383704 ,  895.93846686,\n",
       "        820.31459136, 1011.17410654, 1213.38911961, 1522.0676984 ,\n",
       "       1066.61970194, 1065.03400424,  976.50157858,  917.26766278,\n",
       "        922.50716949,  936.66886415, 1233.85903018,  882.73323225,\n",
       "       1043.41799476, 1372.11262061,  925.61662511, 1051.05525718,\n",
       "       1432.05404612,  916.41102039, 1372.68204779, 1163.52974645,\n",
       "       1147.28699025, 1013.85754018, 1112.44928834, 1093.96527654,\n",
       "       1257.21595444,  942.22370038, 1194.51697029,  928.63251908,\n",
       "        948.94370565,  917.66012615,  905.23543739, 1381.60503577,\n",
       "       1310.80823067, 1194.66822352, 1494.70764614,  843.56801347,\n",
       "        963.10995527,  978.27359441,  985.60448021, 1417.64352533,\n",
       "       1159.5143744 ,  730.71566099, 1188.87660192, 1322.64330559,\n",
       "        897.63168217, 1106.48164428, 1099.64227044,  921.59212121,\n",
       "       1016.76665759, 1002.6130039 , 1117.99642039, 1198.78230565,\n",
       "       1324.15747166,  908.57739127, 1073.29548672, 1048.23518051,\n",
       "        882.34245045, 1192.5616878 , 1247.81145274, 1172.88937702,\n",
       "        889.56734787,  982.85724195, 1390.85754705, 1050.6634894 ,\n",
       "       1504.27783875, 1147.64620476, 1153.7196928 ,  856.35344634,\n",
       "        918.2366024 ,  914.80606172,  918.41953436,  940.65266526,\n",
       "        997.90079793, 1094.10729179, 1393.98305606,  867.28219291,\n",
       "       1207.89767579, 1239.40324513,  838.0432673 , 1199.18688947,\n",
       "        865.88539724,  839.54912592,  890.02656198, 1227.9971289 ,\n",
       "       1200.49145321, 1001.90075326, 1106.15451662,  931.5849772 ,\n",
       "       1270.17043411, 1050.58569073, 1409.62624718, 1462.2450871 ,\n",
       "        929.00829992,  883.13669737, 1205.49748203,  984.40238476,\n",
       "       1273.58089682, 1493.36589866,  889.78552778,  905.17931947,\n",
       "        833.31545131,  919.90996856, 1036.59140624,  863.62643611,\n",
       "        899.84101096,  986.14927148, 1313.79048089, 1084.04079199,\n",
       "       1394.31759385, 1451.15489268, 1102.86236917, 1168.85549899,\n",
       "       1015.5807629 ,  884.79663412, 1211.91949883,  909.24067525,\n",
       "       1112.6928077 , 1107.52954915, 1144.03714047, 1407.1577681 ,\n",
       "       1139.79041369, 1333.70211339, 1431.56904815, 1174.65552086,\n",
       "       1119.20019526,  931.34285846,  965.31836841,  890.78305684,\n",
       "       1135.96052179, 1361.12167594, 1033.50388212, 1062.28791795,\n",
       "       1216.56540272,  976.39696869,  879.77704274, 1037.6780499 ,\n",
       "       1344.18385651,  939.34544869, 1178.36538703,  702.29590361,\n",
       "       1030.26751387,  840.81438893, 1167.10278078, 1279.48119904,\n",
       "       1166.50621085, 1041.63173484, 1085.32033511, 1426.82923885,\n",
       "       1186.42349309, 1479.90687208,  907.4393908 , 1075.18874993,\n",
       "        892.46803315, 1313.5372328 ,  875.66750629, 1417.13315026,\n",
       "       1236.26470822, 1360.41580605, 1022.64209167, 1094.20130034,\n",
       "       1119.02836191, 1084.87396179, 1374.83309332, 1472.46171022,\n",
       "       1233.35054081, 1036.48674857,  940.95211683,  979.08734203,\n",
       "       1414.49014712,  994.36941222,  834.50746923, 1414.2177236 ,\n",
       "       1406.816842  ,  965.50114585, 1081.18273526, 1409.55646819,\n",
       "       1202.23617633, 1078.82585022, 1361.0857283 , 1357.40012331,\n",
       "        844.43521192, 1227.12580809, 1058.69534884, 1013.95457769,\n",
       "        889.4922705 , 1268.58446826,  877.96525904, 1030.8193215 ,\n",
       "       1195.84778975, 1304.38959891,  888.16702056, 1077.4480581 ,\n",
       "       1397.38154846,  939.90987839,  921.50983403, 1110.19924582,\n",
       "       1011.65110808, 1088.3810811 ,  990.08409154,  935.58823137,\n",
       "       1110.50354057,  918.65553781, 1117.00730538, 1489.73033217,\n",
       "       1333.47373966, 1130.74905   , 1133.32954425, 1013.68337789,\n",
       "        955.80821306, 1141.61527425, 1128.70392897, 1240.54274573,\n",
       "        980.63812313,  957.49838235, 1074.80823844, 1169.11750108,\n",
       "        937.30711582,  913.42051627, 1069.91147463, 1156.93284306,\n",
       "       1008.07350837,  971.06050209, 1011.98252638,  898.67421625,\n",
       "       1266.04650159,  944.04658897, 1156.48681613,  853.76315143,\n",
       "       1182.35773794, 1480.68784262, 1100.52366864, 1345.9561684 ,\n",
       "       1437.41530294, 1054.9576976 ,  827.6203904 ,  918.08778597,\n",
       "        954.18419812, 1420.99818018,  864.22890347, 1079.10060596,\n",
       "       1304.54849674, 1050.14171465,  958.9554282 , 1170.80187808,\n",
       "       1204.37440518, 1189.00493859, 1295.87034033, 1246.02323747,\n",
       "        900.04735829,  876.85919768,  995.81356678, 1033.0685757 ,\n",
       "       1260.94660899,  886.67750046, 1326.58189903, 1243.96735811,\n",
       "       1097.9595439 , 1036.63644412, 1202.90301258,  950.57814227,\n",
       "        929.01248601,  964.94084438, 1186.68087705, 1009.36266208,\n",
       "       1309.37281877, 1445.19401727, 1500.41621993, 1051.23060212,\n",
       "       1086.78545646, 1303.26931206,  948.86247071, 1166.07534005,\n",
       "        916.28365619,  948.33345453, 1099.8291075 , 1353.82881188,\n",
       "       1448.89954243, 1134.21249553,  972.08523547, 1441.15925256,\n",
       "        884.18457579,  911.22436998, 1481.7247696 ,  925.82076935,\n",
       "       1188.10150607, 1469.69798661, 1227.06521043, 1075.01945737,\n",
       "        868.78290907, 1083.7447475 , 1494.05517556,  962.79776468,\n",
       "        875.78293911, 1163.43047568, 1335.88308277,  866.27099919,\n",
       "       1172.91962649, 1337.81457635, 1417.97466769, 1269.76169184,\n",
       "       1219.19657607, 1310.98177843, 1018.09532267, 1419.36990333,\n",
       "       1136.86631784,  903.17265195, 1200.03682747,  939.51206204,\n",
       "       1064.14359776, 1001.20023027, 1059.49555247, 1173.74710396,\n",
       "       1463.86040162,  791.17659289, 1008.96850321, 1224.97975514,\n",
       "       1025.09057386,  947.77556446,  879.70675302,  880.78288239,\n",
       "       1465.51971892, 1044.01300535, 1373.79676278, 1011.85662001,\n",
       "        861.8362263 , 1465.81628875, 1146.16709693, 1181.89650705,\n",
       "       1370.20770596,  849.96328939, 1487.92359071,  857.93161096,\n",
       "       1418.31904129, 1349.05091617,  940.78401014, 1104.52904007,\n",
       "       1066.87747428,  828.88222575, 1419.59385191, 1077.066987  ,\n",
       "       1110.54664522, 1125.05938781, 1122.47536437, 1176.9607425 ,\n",
       "        816.95573593,  938.03715228, 1398.46486098, 1049.44310854,\n",
       "        952.42325708,  968.4818359 , 1131.81915938])"
      ]
     },
     "execution_count": 172,
     "metadata": {},
     "output_type": "execute_result"
    }
   ],
   "source": [
    "y_pred = model.predict(x_test)\n",
    "y_pred"
   ]
  },
  {
   "cell_type": "code",
   "execution_count": 173,
   "id": "c6c7a713-ed32-4c45-a1b7-3f85a09e5d35",
   "metadata": {},
   "outputs": [],
   "source": [
    "from sklearn.metrics import r2_score"
   ]
  },
  {
   "cell_type": "code",
   "execution_count": 174,
   "id": "2c5e5963-02d9-40a1-b128-7a409b89ea47",
   "metadata": {},
   "outputs": [
    {
     "data": {
      "text/plain": [
       "0.9788940216722682"
      ]
     },
     "execution_count": 174,
     "metadata": {},
     "output_type": "execute_result"
    }
   ],
   "source": [
    "r2_score(y_test,y_pred)"
   ]
  },
  {
   "cell_type": "code",
   "execution_count": 175,
   "id": "1787a65a-913d-426f-9e03-f87f878824c0",
   "metadata": {},
   "outputs": [
    {
     "data": {
      "text/plain": [
       "Text(0.5, 1.0, 'Actual vs Predicted')"
      ]
     },
     "execution_count": 175,
     "metadata": {},
     "output_type": "execute_result"
    },
    {
     "data": {
      "image/png": "[encoded data removed]",
      "text/plain": [
       "<Figure size 1080x720 with 1 Axes>"
      ]
     },
     "metadata": {
      "needs_background": "light"
     },
     "output_type": "display_data"
    }
   ],
   "source": [
    "import matplotlib.pyplot as plt\n",
    "plt.figure(figsize=(15,10))\n",
    "plt.scatter(y_test[:10],y_pred[:10])\n",
    "plt.xlabel('Actual')\n",
    "plt.ylabel('Predicted')\n",
    "plt.title('Actual vs Predicted')"
   ]
  },
  {
   "cell_type": "code",
   "execution_count": 176,
   "id": "25a38136-0899-4bad-b12f-3cb6ed91bbe4",
   "metadata": {},
   "outputs": [
    {
     "data": {
      "text/html": [
       "<div>\n",
       "<style scoped>\n",
       "    .dataframe tbody tr th:only-of-type {\n",
       "        vertical-align: middle;\n",
       "    }\n",
       "\n",
       "    .dataframe tbody tr th {\n",
       "        vertical-align: top;\n",
       "    }\n",
       "\n",
       "    .dataframe thead th {\n",
       "        text-align: right;\n",
       "    }\n",
       "</style>\n",
       "<table border=\"1\" class=\"dataframe\">\n",
       "  <thead>\n",
       "    <tr style=\"text-align: right;\">\n",
       "      <th></th>\n",
       "      <th>Actual Values</th>\n",
       "      <th>Predicted_values</th>\n",
       "      <th>Difference</th>\n",
       "    </tr>\n",
       "  </thead>\n",
       "  <tbody>\n",
       "    <tr>\n",
       "      <th>0</th>\n",
       "      <td>1289.1745</td>\n",
       "      <td>1264.223362</td>\n",
       "      <td>24.951138</td>\n",
       "    </tr>\n",
       "    <tr>\n",
       "      <th>1</th>\n",
       "      <td>975.4831</td>\n",
       "      <td>947.897293</td>\n",
       "      <td>27.585807</td>\n",
       "    </tr>\n",
       "    <tr>\n",
       "      <th>2</th>\n",
       "      <td>1010.4936</td>\n",
       "      <td>990.823128</td>\n",
       "      <td>19.670472</td>\n",
       "    </tr>\n",
       "    <tr>\n",
       "      <th>3</th>\n",
       "      <td>1007.0713</td>\n",
       "      <td>986.324669</td>\n",
       "      <td>20.746631</td>\n",
       "    </tr>\n",
       "    <tr>\n",
       "      <th>4</th>\n",
       "      <td>1066.5101</td>\n",
       "      <td>1071.837005</td>\n",
       "      <td>-5.326905</td>\n",
       "    </tr>\n",
       "    <tr>\n",
       "      <th>...</th>\n",
       "      <td>...</td>\n",
       "      <td>...</td>\n",
       "      <td>...</td>\n",
       "    </tr>\n",
       "    <tr>\n",
       "      <th>442</th>\n",
       "      <td>1382.6206</td>\n",
       "      <td>1398.464861</td>\n",
       "      <td>-15.844261</td>\n",
       "    </tr>\n",
       "    <tr>\n",
       "      <th>443</th>\n",
       "      <td>1036.4109</td>\n",
       "      <td>1049.443109</td>\n",
       "      <td>-13.032209</td>\n",
       "    </tr>\n",
       "    <tr>\n",
       "      <th>444</th>\n",
       "      <td>946.7805</td>\n",
       "      <td>952.423257</td>\n",
       "      <td>-5.642757</td>\n",
       "    </tr>\n",
       "    <tr>\n",
       "      <th>445</th>\n",
       "      <td>991.1953</td>\n",
       "      <td>968.481836</td>\n",
       "      <td>22.713464</td>\n",
       "    </tr>\n",
       "    <tr>\n",
       "      <th>446</th>\n",
       "      <td>1179.6642</td>\n",
       "      <td>1131.819159</td>\n",
       "      <td>47.845041</td>\n",
       "    </tr>\n",
       "  </tbody>\n",
       "</table>\n",
       "<p>447 rows × 3 columns</p>\n",
       "</div>"
      ],
      "text/plain": [
       "     Actual Values  Predicted_values  Difference\n",
       "0        1289.1745       1264.223362   24.951138\n",
       "1         975.4831        947.897293   27.585807\n",
       "2        1010.4936        990.823128   19.670472\n",
       "3        1007.0713        986.324669   20.746631\n",
       "4        1066.5101       1071.837005   -5.326905\n",
       "..             ...               ...         ...\n",
       "442      1382.6206       1398.464861  -15.844261\n",
       "443      1036.4109       1049.443109  -13.032209\n",
       "444       946.7805        952.423257   -5.642757\n",
       "445       991.1953        968.481836   22.713464\n",
       "446      1179.6642       1131.819159   47.845041\n",
       "\n",
       "[447 rows x 3 columns]"
      ]
     },
     "execution_count": 176,
     "metadata": {},
     "output_type": "execute_result"
    }
   ],
   "source": [
    "pred_y_df = pd.DataFrame({'Actual Values':y_test,'Predicted_values':y_pred,'Difference':y_test-y_pred})\n",
    "pred_y_df"
   ]
  },
  {
   "cell_type": "code",
   "execution_count": 177,
   "id": "34f5aa96-4cf3-4866-bba4-024413a280ac",
   "metadata": {},
   "outputs": [],
   "source": [
    "def mean_absolute_percentage_error(y_true, y_pred): \n",
    "    y_true, y_pred = np.array(y_true), np.array(y_pred)\n",
    "    return round(np.mean(np.abs((y_true - y_pred) / y_true)) * 100, 2)"
   ]
  },
  {
   "cell_type": "code",
   "execution_count": 179,
   "id": "c8782c63-1818-4015-84e7-c45b6093d017",
   "metadata": {},
   "outputs": [
    {
     "data": {
      "text/plain": [
       "1.85"
      ]
     },
     "execution_count": 179,
     "metadata": {},
     "output_type": "execute_result"
    }
   ],
   "source": [
    "mean_absolute_percentage_error(pred_y_df['Actual Values'],pred_y_df['Predicted_values'])"
   ]
  },
  {
   "cell_type": "code",
   "execution_count": 180,
   "id": "78bd1d9f-805a-421c-8c36-714fd98e87fb",
   "metadata": {},
   "outputs": [
    {
     "data": {
      "text/plain": [
       "98.15"
      ]
     },
     "execution_count": 180,
     "metadata": {},
     "output_type": "execute_result"
    }
   ],
   "source": [
    "100-1.85"
   ]
  },
  {
   "cell_type": "code",
   "execution_count": 181,
   "id": "ceaf3d85-93a4-47f6-8e94-9eb0936d25f8",
   "metadata": {},
   "outputs": [
    {
     "data": {
      "text/plain": [
       "28.08664597987065"
      ]
     },
     "execution_count": 181,
     "metadata": {},
     "output_type": "execute_result"
    }
   ],
   "source": [
    "from sklearn.metrics import mean_squared_error\n",
    "from math import sqrt\n",
    "rmse=sqrt(mean_squared_error(pred_y_df['Actual Values'],pred_y_df['Predicted_values']))\n",
    "rmse"
   ]
  },
  {
   "cell_type": "code",
   "execution_count": null,
   "id": "e9e6e8f3-459d-40fe-93aa-2e7691c4e8f4",
   "metadata": {},
   "outputs": [],
   "source": []
  }
 ],
 "metadata": {
  "kernelspec": {
   "display_name": "Python 3",
   "language": "python",
   "name": "python3"
  },
  "language_info": {
   "codemirror_mode": {
    "name": "ipython",
    "version": 3
   },
   "file_extension": ".py",
   "mimetype": "text/x-python",
   "name": "python",
   "nbconvert_exporter": "python",
   "pygments_lexer": "ipython3",
   "version": "3.9.4"
  }
 },
 "nbformat": 4,
 "nbformat_minor": 5
}
