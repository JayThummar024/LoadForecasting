{
 "cells": [
  {
   "cell_type": "code",
   "execution_count": 3,
   "id": "0dd37388-d747-4e33-85e5-5a1745535842",
   "metadata": {},
   "outputs": [],
   "source": [
    "import pandas as pd\n",
    "import numpy as np"
   ]
  },
  {
   "cell_type": "code",
   "execution_count": 4,
   "id": "fcb1f048-e644-4dce-8481-ec86428fe6d1",
   "metadata": {},
   "outputs": [
    {
     "data": {
      "text/html": [
       "<div>\n",
       "<style scoped>\n",
       "    .dataframe tbody tr th:only-of-type {\n",
       "        vertical-align: middle;\n",
       "    }\n",
       "\n",
       "    .dataframe tbody tr th {\n",
       "        vertical-align: top;\n",
       "    }\n",
       "\n",
       "    .dataframe thead th {\n",
       "        text-align: right;\n",
       "    }\n",
       "</style>\n",
       "<table border=\"1\" class=\"dataframe\">\n",
       "  <thead>\n",
       "    <tr style=\"text-align: right;\">\n",
       "      <th></th>\n",
       "      <th>datetime</th>\n",
       "      <th>week_X-2</th>\n",
       "      <th>week_X-3</th>\n",
       "      <th>week_X-4</th>\n",
       "      <th>MA_X-4</th>\n",
       "      <th>dayOfWeek</th>\n",
       "      <th>weekend</th>\n",
       "      <th>holiday</th>\n",
       "      <th>Holiday_ID</th>\n",
       "      <th>hourOfDay</th>\n",
       "      <th>T2M_toc</th>\n",
       "      <th>DEMAND</th>\n",
       "    </tr>\n",
       "  </thead>\n",
       "  <tbody>\n",
       "    <tr>\n",
       "      <th>0</th>\n",
       "      <td>2015-01-31 01:00:00</td>\n",
       "      <td>962.2865</td>\n",
       "      <td>906.9580</td>\n",
       "      <td>970.3450</td>\n",
       "      <td>938.004850</td>\n",
       "      <td>1</td>\n",
       "      <td>1</td>\n",
       "      <td>0</td>\n",
       "      <td>0</td>\n",
       "      <td>1</td>\n",
       "      <td>25.308496</td>\n",
       "      <td>954.2018</td>\n",
       "    </tr>\n",
       "    <tr>\n",
       "      <th>24</th>\n",
       "      <td>2015-02-01 01:00:00</td>\n",
       "      <td>873.3819</td>\n",
       "      <td>924.2795</td>\n",
       "      <td>944.0556</td>\n",
       "      <td>905.487275</td>\n",
       "      <td>2</td>\n",
       "      <td>1</td>\n",
       "      <td>0</td>\n",
       "      <td>0</td>\n",
       "      <td>1</td>\n",
       "      <td>25.448450</td>\n",
       "      <td>904.3712</td>\n",
       "    </tr>\n",
       "    <tr>\n",
       "      <th>48</th>\n",
       "      <td>2015-02-02 01:00:00</td>\n",
       "      <td>898.0128</td>\n",
       "      <td>941.5469</td>\n",
       "      <td>928.5338</td>\n",
       "      <td>919.028000</td>\n",
       "      <td>3</td>\n",
       "      <td>0</td>\n",
       "      <td>0</td>\n",
       "      <td>0</td>\n",
       "      <td>1</td>\n",
       "      <td>25.584375</td>\n",
       "      <td>905.0674</td>\n",
       "    </tr>\n",
       "    <tr>\n",
       "      <th>72</th>\n",
       "      <td>2015-02-03 01:00:00</td>\n",
       "      <td>848.3934</td>\n",
       "      <td>963.5070</td>\n",
       "      <td>914.6895</td>\n",
       "      <td>906.026700</td>\n",
       "      <td>4</td>\n",
       "      <td>0</td>\n",
       "      <td>0</td>\n",
       "      <td>0</td>\n",
       "      <td>1</td>\n",
       "      <td>26.011926</td>\n",
       "      <td>942.6513</td>\n",
       "    </tr>\n",
       "    <tr>\n",
       "      <th>96</th>\n",
       "      <td>2015-02-04 01:00:00</td>\n",
       "      <td>837.0560</td>\n",
       "      <td>978.6654</td>\n",
       "      <td>940.4568</td>\n",
       "      <td>918.726067</td>\n",
       "      <td>5</td>\n",
       "      <td>0</td>\n",
       "      <td>0</td>\n",
       "      <td>0</td>\n",
       "      <td>1</td>\n",
       "      <td>25.632257</td>\n",
       "      <td>954.0226</td>\n",
       "    </tr>\n",
       "    <tr>\n",
       "      <th>...</th>\n",
       "      <td>...</td>\n",
       "      <td>...</td>\n",
       "      <td>...</td>\n",
       "      <td>...</td>\n",
       "      <td>...</td>\n",
       "      <td>...</td>\n",
       "      <td>...</td>\n",
       "      <td>...</td>\n",
       "      <td>...</td>\n",
       "      <td>...</td>\n",
       "      <td>...</td>\n",
       "      <td>...</td>\n",
       "    </tr>\n",
       "    <tr>\n",
       "      <th>36600</th>\n",
       "      <td>2019-04-05 01:00:00</td>\n",
       "      <td>1128.4495</td>\n",
       "      <td>1068.8083</td>\n",
       "      <td>1055.8083</td>\n",
       "      <td>1084.355367</td>\n",
       "      <td>7</td>\n",
       "      <td>0</td>\n",
       "      <td>0</td>\n",
       "      <td>0</td>\n",
       "      <td>1</td>\n",
       "      <td>25.537500</td>\n",
       "      <td>1099.8831</td>\n",
       "    </tr>\n",
       "    <tr>\n",
       "      <th>36624</th>\n",
       "      <td>2019-04-06 01:00:00</td>\n",
       "      <td>1204.5668</td>\n",
       "      <td>1117.8152</td>\n",
       "      <td>1069.8917</td>\n",
       "      <td>1114.255575</td>\n",
       "      <td>1</td>\n",
       "      <td>1</td>\n",
       "      <td>0</td>\n",
       "      <td>0</td>\n",
       "      <td>1</td>\n",
       "      <td>25.960168</td>\n",
       "      <td>1085.4864</td>\n",
       "    </tr>\n",
       "    <tr>\n",
       "      <th>36648</th>\n",
       "      <td>2019-04-07 01:00:00</td>\n",
       "      <td>1068.4582</td>\n",
       "      <td>1137.6306</td>\n",
       "      <td>1069.1392</td>\n",
       "      <td>1092.644675</td>\n",
       "      <td>2</td>\n",
       "      <td>1</td>\n",
       "      <td>0</td>\n",
       "      <td>0</td>\n",
       "      <td>1</td>\n",
       "      <td>26.040552</td>\n",
       "      <td>1069.5315</td>\n",
       "    </tr>\n",
       "    <tr>\n",
       "      <th>36672</th>\n",
       "      <td>2019-04-08 01:00:00</td>\n",
       "      <td>1067.6071</td>\n",
       "      <td>1102.4937</td>\n",
       "      <td>1059.0732</td>\n",
       "      <td>1076.278625</td>\n",
       "      <td>3</td>\n",
       "      <td>0</td>\n",
       "      <td>0</td>\n",
       "      <td>0</td>\n",
       "      <td>1</td>\n",
       "      <td>26.620172</td>\n",
       "      <td>1030.9882</td>\n",
       "    </tr>\n",
       "    <tr>\n",
       "      <th>36696</th>\n",
       "      <td>2019-04-09 01:00:00</td>\n",
       "      <td>1106.3870</td>\n",
       "      <td>1102.9953</td>\n",
       "      <td>1085.2530</td>\n",
       "      <td>1097.884550</td>\n",
       "      <td>4</td>\n",
       "      <td>0</td>\n",
       "      <td>0</td>\n",
       "      <td>0</td>\n",
       "      <td>1</td>\n",
       "      <td>26.895593</td>\n",
       "      <td>1117.8862</td>\n",
       "    </tr>\n",
       "  </tbody>\n",
       "</table>\n",
       "<p>1530 rows × 12 columns</p>\n",
       "</div>"
      ],
      "text/plain": [
       "                  datetime   week_X-2   week_X-3   week_X-4       MA_X-4  \\\n",
       "0      2015-01-31 01:00:00   962.2865   906.9580   970.3450   938.004850   \n",
       "24     2015-02-01 01:00:00   873.3819   924.2795   944.0556   905.487275   \n",
       "48     2015-02-02 01:00:00   898.0128   941.5469   928.5338   919.028000   \n",
       "72     2015-02-03 01:00:00   848.3934   963.5070   914.6895   906.026700   \n",
       "96     2015-02-04 01:00:00   837.0560   978.6654   940.4568   918.726067   \n",
       "...                    ...        ...        ...        ...          ...   \n",
       "36600  2019-04-05 01:00:00  1128.4495  1068.8083  1055.8083  1084.355367   \n",
       "36624  2019-04-06 01:00:00  1204.5668  1117.8152  1069.8917  1114.255575   \n",
       "36648  2019-04-07 01:00:00  1068.4582  1137.6306  1069.1392  1092.644675   \n",
       "36672  2019-04-08 01:00:00  1067.6071  1102.4937  1059.0732  1076.278625   \n",
       "36696  2019-04-09 01:00:00  1106.3870  1102.9953  1085.2530  1097.884550   \n",
       "\n",
       "       dayOfWeek  weekend  holiday  Holiday_ID  hourOfDay    T2M_toc  \\\n",
       "0              1        1        0           0          1  25.308496   \n",
       "24             2        1        0           0          1  25.448450   \n",
       "48             3        0        0           0          1  25.584375   \n",
       "72             4        0        0           0          1  26.011926   \n",
       "96             5        0        0           0          1  25.632257   \n",
       "...          ...      ...      ...         ...        ...        ...   \n",
       "36600          7        0        0           0          1  25.537500   \n",
       "36624          1        1        0           0          1  25.960168   \n",
       "36648          2        1        0           0          1  26.040552   \n",
       "36672          3        0        0           0          1  26.620172   \n",
       "36696          4        0        0           0          1  26.895593   \n",
       "\n",
       "          DEMAND  \n",
       "0       954.2018  \n",
       "24      904.3712  \n",
       "48      905.0674  \n",
       "72      942.6513  \n",
       "96      954.0226  \n",
       "...          ...  \n",
       "36600  1099.8831  \n",
       "36624  1085.4864  \n",
       "36648  1069.5315  \n",
       "36672  1030.9882  \n",
       "36696  1117.8862  \n",
       "\n",
       "[1530 rows x 12 columns]"
      ]
     },
     "execution_count": 4,
     "metadata": {},
     "output_type": "execute_result"
    }
   ],
   "source": [
    "df = pd.read_csv(r'C:\\Users\\Jay Thummar\\Desktop\\train_dataframes.csv')\n",
    "df = df[::24]\n",
    "df"
   ]
  },
  {
   "cell_type": "code",
   "execution_count": 5,
   "id": "bac4039a-f57c-44bc-bcc1-1c91fa754f90",
   "metadata": {},
   "outputs": [
    {
     "data": {
      "image/png": "[encoded data removed]",
      "text/plain": [
       "<Figure size 864x360 with 1 Axes>"
      ]
     },
     "metadata": {
      "needs_background": "light"
     },
     "output_type": "display_data"
    }
   ],
   "source": [
    "df['DEMAND'][:2400].plot(figsize=(12,5))\n",
    "df = df[:2400]"
   ]
  },
  {
   "cell_type": "code",
   "execution_count": 6,
   "id": "d96f4c73-3047-4fdf-b903-b79beecd9046",
   "metadata": {},
   "outputs": [
    {
     "name": "stdout",
     "output_type": "stream",
     "text": [
      "1. ADF :  -3.593793689549635\n",
      "2. P-Value :  0.005880793621818829\n",
      "3. Num Of Lags :  21\n",
      "4. Num Of Observations Used For ADF Regression: 1508\n",
      "5. Critical Values :\n",
      "\t 1% :  -3.4346938104971554\n",
      "\t 5% :  -2.863458518103151\n",
      "\t 10% :  -2.567791394384679\n"
     ]
    }
   ],
   "source": [
    "from statsmodels.tsa.stattools import adfuller\n",
    "def ad_test(dataset):\n",
    "     dftest = adfuller(dataset, autolag = 'AIC')\n",
    "     print(\"1. ADF : \",dftest[0])\n",
    "     print(\"2. P-Value : \", dftest[1])\n",
    "     print(\"3. Num Of Lags : \", dftest[2])\n",
    "     print(\"4. Num Of Observations Used For ADF Regression:\",      dftest[3])\n",
    "     print(\"5. Critical Values :\")\n",
    "     for key, val in dftest[4].items():\n",
    "         print(\"\\t\",key, \": \", val)\n",
    "ad_test(df['DEMAND'])"
   ]
  },
  {
   "cell_type": "code",
   "execution_count": 7,
   "id": "81426e94-ed9e-4e71-b03d-a711b8f5667d",
   "metadata": {},
   "outputs": [],
   "source": [
    "from statsmodels.tsa.stattools import acf, pacf"
   ]
  },
  {
   "cell_type": "code",
   "execution_count": 8,
   "id": "98349144-c2e4-405c-965d-b438827338d3",
   "metadata": {},
   "outputs": [
    {
     "name": "stdout",
     "output_type": "stream",
     "text": [
      "Performing stepwise search to minimize aic\n",
      " ARIMA(2,1,2)(0,0,0)[0] intercept   : AIC=15519.052, Time=0.94 sec\n",
      " ARIMA(0,1,0)(0,0,0)[0] intercept   : AIC=15902.556, Time=0.03 sec\n",
      " ARIMA(1,1,0)(0,0,0)[0] intercept   : AIC=15789.142, Time=0.06 sec\n",
      " ARIMA(0,1,1)(0,0,0)[0] intercept   : AIC=15651.080, Time=0.22 sec\n",
      " ARIMA(0,1,0)(0,0,0)[0]             : AIC=15900.565, Time=0.03 sec\n",
      " ARIMA(1,1,2)(0,0,0)[0] intercept   : AIC=15519.333, Time=0.67 sec\n",
      " ARIMA(2,1,1)(0,0,0)[0] intercept   : AIC=15519.335, Time=0.55 sec\n",
      " ARIMA(3,1,2)(0,0,0)[0] intercept   : AIC=15520.303, Time=1.32 sec\n",
      " ARIMA(2,1,3)(0,0,0)[0] intercept   : AIC=15520.028, Time=1.36 sec\n",
      " ARIMA(1,1,1)(0,0,0)[0] intercept   : AIC=15517.341, Time=0.32 sec\n",
      " ARIMA(0,1,2)(0,0,0)[0] intercept   : AIC=15537.696, Time=0.35 sec\n",
      " ARIMA(2,1,0)(0,0,0)[0] intercept   : AIC=15697.313, Time=0.08 sec\n",
      " ARIMA(1,1,1)(0,0,0)[0]             : AIC=15516.299, Time=0.17 sec\n",
      " ARIMA(0,1,1)(0,0,0)[0]             : AIC=15649.145, Time=0.07 sec\n",
      " ARIMA(1,1,0)(0,0,0)[0]             : AIC=15787.156, Time=0.03 sec\n",
      " ARIMA(2,1,1)(0,0,0)[0]             : AIC=15518.299, Time=0.26 sec\n",
      " ARIMA(1,1,2)(0,0,0)[0]             : AIC=15518.299, Time=0.35 sec\n",
      " ARIMA(0,1,2)(0,0,0)[0]             : AIC=15535.945, Time=0.14 sec\n",
      " ARIMA(2,1,0)(0,0,0)[0]             : AIC=15695.336, Time=0.05 sec\n",
      " ARIMA(2,1,2)(0,0,0)[0]             : AIC=15517.957, Time=0.55 sec\n",
      "\n",
      "Best model:  ARIMA(1,1,1)(0,0,0)[0]          \n",
      "Total fit time: 7.619 seconds\n"
     ]
    }
   ],
   "source": [
    "from pmdarima import auto_arima\n",
    "stepwise_fit = auto_arima(df['DEMAND'], trace=True,suppress_warnings=True)"
   ]
  },
  {
   "cell_type": "code",
   "execution_count": 9,
   "id": "ec29818e-9865-4cac-9a4a-233f13d710d3",
   "metadata": {},
   "outputs": [
    {
     "name": "stdout",
     "output_type": "stream",
     "text": [
      "(1530, 12)\n",
      "(1230, 12) (300, 12)\n"
     ]
    }
   ],
   "source": [
    "print(df.shape)\n",
    "train=df.iloc[:-300]\n",
    "test=df.iloc[-300:]\n",
    "print(train.shape,test.shape)"
   ]
  },
  {
   "cell_type": "code",
   "execution_count": 10,
   "id": "5e483906-d573-4d74-9deb-53f004d51ce7",
   "metadata": {},
   "outputs": [
    {
     "data": {
      "text/html": [
       "<table class=\"simpletable\">\n",
       "<caption>SARIMAX Results</caption>\n",
       "<tr>\n",
       "  <th>Dep. Variable:</th>        <td>DEMAND</td>      <th>  No. Observations:  </th>   <td>1230</td>   \n",
       "</tr>\n",
       "<tr>\n",
       "  <th>Model:</th>            <td>ARIMA(1, 1, 1)</td>  <th>  Log Likelihood     </th> <td>-6250.752</td>\n",
       "</tr>\n",
       "<tr>\n",
       "  <th>Date:</th>            <td>Wed, 01 Jun 2022</td> <th>  AIC                </th> <td>12507.504</td>\n",
       "</tr>\n",
       "<tr>\n",
       "  <th>Time:</th>                <td>12:20:36</td>     <th>  BIC                </th> <td>12522.846</td>\n",
       "</tr>\n",
       "<tr>\n",
       "  <th>Sample:</th>                  <td>0</td>        <th>  HQIC               </th> <td>12513.277</td>\n",
       "</tr>\n",
       "<tr>\n",
       "  <th></th>                      <td> - 1230</td>     <th>                     </th>     <td> </td>    \n",
       "</tr>\n",
       "<tr>\n",
       "  <th>Covariance Type:</th>        <td>opg</td>       <th>                     </th>     <td> </td>    \n",
       "</tr>\n",
       "</table>\n",
       "<table class=\"simpletable\">\n",
       "<tr>\n",
       "     <td></td>       <th>coef</th>     <th>std err</th>      <th>z</th>      <th>P>|z|</th>  <th>[0.025</th>    <th>0.975]</th>  \n",
       "</tr>\n",
       "<tr>\n",
       "  <th>ar.L1</th>  <td>    0.4524</td> <td>    0.026</td> <td>   17.176</td> <td> 0.000</td> <td>    0.401</td> <td>    0.504</td>\n",
       "</tr>\n",
       "<tr>\n",
       "  <th>ma.L1</th>  <td>   -0.9249</td> <td>    0.014</td> <td>  -65.297</td> <td> 0.000</td> <td>   -0.953</td> <td>   -0.897</td>\n",
       "</tr>\n",
       "<tr>\n",
       "  <th>sigma2</th> <td> 1530.5439</td> <td>   46.822</td> <td>   32.689</td> <td> 0.000</td> <td> 1438.775</td> <td> 1622.313</td>\n",
       "</tr>\n",
       "</table>\n",
       "<table class=\"simpletable\">\n",
       "<tr>\n",
       "  <th>Ljung-Box (L1) (Q):</th>     <td>0.02</td> <th>  Jarque-Bera (JB):  </th> <td>257.97</td>\n",
       "</tr>\n",
       "<tr>\n",
       "  <th>Prob(Q):</th>                <td>0.90</td> <th>  Prob(JB):          </th>  <td>0.00</td> \n",
       "</tr>\n",
       "<tr>\n",
       "  <th>Heteroskedasticity (H):</th> <td>0.84</td> <th>  Skew:              </th>  <td>-0.46</td>\n",
       "</tr>\n",
       "<tr>\n",
       "  <th>Prob(H) (two-sided):</th>    <td>0.09</td> <th>  Kurtosis:          </th>  <td>5.05</td> \n",
       "</tr>\n",
       "</table><br/><br/>Warnings:<br/>[1] Covariance matrix calculated using the outer product of gradients (complex-step)."
      ],
      "text/plain": [
       "<class 'statsmodels.iolib.summary.Summary'>\n",
       "\"\"\"\n",
       "                               SARIMAX Results                                \n",
       "==============================================================================\n",
       "Dep. Variable:                 DEMAND   No. Observations:                 1230\n",
       "Model:                 ARIMA(1, 1, 1)   Log Likelihood               -6250.752\n",
       "Date:                Wed, 01 Jun 2022   AIC                          12507.504\n",
       "Time:                        12:20:36   BIC                          12522.846\n",
       "Sample:                             0   HQIC                         12513.277\n",
       "                               - 1230                                         \n",
       "Covariance Type:                  opg                                         \n",
       "==============================================================================\n",
       "                 coef    std err          z      P>|z|      [0.025      0.975]\n",
       "------------------------------------------------------------------------------\n",
       "ar.L1          0.4524      0.026     17.176      0.000       0.401       0.504\n",
       "ma.L1         -0.9249      0.014    -65.297      0.000      -0.953      -0.897\n",
       "sigma2      1530.5439     46.822     32.689      0.000    1438.775    1622.313\n",
       "===================================================================================\n",
       "Ljung-Box (L1) (Q):                   0.02   Jarque-Bera (JB):               257.97\n",
       "Prob(Q):                              0.90   Prob(JB):                         0.00\n",
       "Heteroskedasticity (H):               0.84   Skew:                            -0.46\n",
       "Prob(H) (two-sided):                  0.09   Kurtosis:                         5.05\n",
       "===================================================================================\n",
       "\n",
       "Warnings:\n",
       "[1] Covariance matrix calculated using the outer product of gradients (complex-step).\n",
       "\"\"\""
      ]
     },
     "execution_count": 10,
     "metadata": {},
     "output_type": "execute_result"
    }
   ],
   "source": [
    "from statsmodels.tsa.arima.model import ARIMA\n",
    "model=ARIMA(train['DEMAND'],order=(1,1,1))\n",
    "model=model.fit()\n",
    "model.summary()"
   ]
  },
  {
   "cell_type": "code",
   "execution_count": 11,
   "id": "072ede49-69f8-4f04-a3c5-c74f54a7319e",
   "metadata": {},
   "outputs": [
    {
     "data": {
      "text/plain": [
       "<AxesSubplot:>"
      ]
     },
     "execution_count": 11,
     "metadata": {},
     "output_type": "execute_result"
    },
    {
     "data": {
      "image/png": "[encoded data removed]",
      "text/plain": [
       "<Figure size 432x288 with 1 Axes>"
      ]
     },
     "metadata": {
      "needs_background": "light"
     },
     "output_type": "display_data"
    }
   ],
   "source": [
    "start=len(train)\n",
    "end=len(train)+len(test)-1\n",
    "pred=model.predict(start=start,end=end,typ='levels').rename('ARIMA Predictions')\n",
    "pred.plot(legend=True)\n",
    "test['DEMAND'].plot(legend=True)"
   ]
  },
  {
   "cell_type": "code",
   "execution_count": 13,
   "id": "bbf752e4-0ef6-4427-b7f2-c8aed686b440",
   "metadata": {},
   "outputs": [
    {
     "data": {
      "text/plain": [
       "45.386526259213355"
      ]
     },
     "execution_count": 13,
     "metadata": {},
     "output_type": "execute_result"
    }
   ],
   "source": [
    "from sklearn.metrics import mean_squared_error\n",
    "from math import sqrt\n",
    "rmse=sqrt(mean_squared_error(test['DEMAND'],pred))\n",
    "rmse"
   ]
  },
  {
   "cell_type": "code",
   "execution_count": null,
   "id": "015aab69-48b6-40b2-9676-c5ee5939e6a3",
   "metadata": {},
   "outputs": [],
   "source": []
  }
 ],
 "metadata": {
  "kernelspec": {
   "display_name": "Python 3",
   "language": "python",
   "name": "python3"
  },
  "language_info": {
   "codemirror_mode": {
    "name": "ipython",
    "version": 3
   },
   "file_extension": ".py",
   "mimetype": "text/x-python",
   "name": "python",
   "nbconvert_exporter": "python",
   "pygments_lexer": "ipython3",
   "version": "3.9.4"
  }
 },
 "nbformat": 4,
 "nbformat_minor": 5
}
